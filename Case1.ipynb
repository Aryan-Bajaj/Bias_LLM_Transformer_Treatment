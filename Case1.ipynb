{
 "cells": [
  {
   "cell_type": "code",
   "execution_count": 1,
   "metadata": {},
   "outputs": [
    {
     "name": "stdout",
     "output_type": "stream",
     "text": [
      "Ignoring all the warnings -- True\n"
     ]
    }
   ],
   "source": [
    "# Calling the Necessary Libararies\n",
    "import pandas as pd\n",
    "import numpy as np\n",
    "from sklearn.model_selection import train_test_split\n",
    "from sklearn.preprocessing import LabelEncoder, MinMaxScaler, PowerTransformer\n",
    "from sklearn.model_selection import GridSearchCV\n",
    "from sklearn.svm import SVC\n",
    "from sklearn.ensemble import RandomForestClassifier, GradientBoostingClassifier\n",
    "from sklearn.metrics import accuracy_score, confusion_matrix\n",
    "import warnings\n",
    "import matplotlib.pyplot as plt\n",
    "from tabulate import tabulate\n",
    "import seaborn as sns\n",
    "from scipy import stats\n",
    "from sklearn.ensemble import IsolationForest\n",
    "\n",
    "warnings.filterwarnings('ignore')\n",
    "print(\"Ignoring all the warnings -- True\")"
   ]
  },
  {
   "cell_type": "code",
   "execution_count": 6,
   "metadata": {},
   "outputs": [],
   "source": [
    "label_encoder = LabelEncoder()\n",
    "for feature in features:\n",
    "    df[feature] = label_encoder.fit_transform(df[feature].astype(str))"
   ]
  },
  {
   "cell_type": "code",
   "execution_count": 7,
   "metadata": {},
   "outputs": [],
   "source": [
    "male_data = df[df['gender'] == 0]\n",
    "female_data = df[df['gender'] == 1]"
   ]
  },
  {
   "cell_type": "code",
   "execution_count": 12,
   "metadata": {},
   "outputs": [],
   "source": [
    "X_male = male_data.drop(columns=[target])\n",
    "y_male = male_data[target]\n",
    "X_female = female_data.drop(columns=[target])\n",
    "y_female = female_data[target]\n",
    "\n",
    "X_train_male, X_test_male, y_train_male, y_test_male = train_test_split(X_male, y_male, test_size=0.10)\n",
    "X_train_female, X_test_female, y_train_female, y_test_female = train_test_split(X_female, y_female, test_size=0.10)"
   ]
  },
  {
   "cell_type": "code",
   "execution_count": 13,
   "metadata": {},
   "outputs": [],
   "source": [
    "svm_model = SVC()\n",
    "rf_model = RandomForestClassifier()\n",
    "gb_model = GradientBoostingClassifier()"
   ]
  },
  {
   "cell_type": "code",
   "execution_count": 14,
   "metadata": {},
   "outputs": [],
   "source": [
    "# Initialize models with default hyperparameters\n",
    "svm_model_male = SVC()\n",
    "rf_model_male = RandomForestClassifier()\n",
    "gb_model_male = GradientBoostingClassifier()"
   ]
  },
  {
   "cell_type": "code",
   "execution_count": 15,
   "metadata": {},
   "outputs": [],
   "source": [
    "# Initialize models with default hyperparameters\n",
    "svm_model_female = SVC()\n",
    "rf_model_female = RandomForestClassifier()\n",
    "gb_model_female = GradientBoostingClassifier()"
   ]
  },
  {
   "cell_type": "code",
   "execution_count": 16,
   "metadata": {},
   "outputs": [
    {
     "data": {
      "text/plain": [
       "SVC()"
      ]
     },
     "execution_count": 16,
     "metadata": {},
     "output_type": "execute_result"
    }
   ],
   "source": [
    "# Fit models on training data (Male)\n",
    "svm_model_male.fit(X_train_male, y_train_male)"
   ]
  },
  {
   "cell_type": "code",
   "execution_count": 17,
   "metadata": {},
   "outputs": [
    {
     "data": {
      "text/plain": [
       "RandomForestClassifier()"
      ]
     },
     "execution_count": 17,
     "metadata": {},
     "output_type": "execute_result"
    }
   ],
   "source": [
    "rf_model_male.fit(X_train_male, y_train_male)"
   ]
  },
  {
   "cell_type": "code",
   "execution_count": 18,
   "metadata": {},
   "outputs": [
    {
     "data": {
      "text/plain": [
       "GradientBoostingClassifier()"
      ]
     },
     "execution_count": 18,
     "metadata": {},
     "output_type": "execute_result"
    }
   ],
   "source": [
    "gb_model_male.fit(X_train_male, y_train_male)"
   ]
  },
  {
   "cell_type": "code",
   "execution_count": 19,
   "metadata": {},
   "outputs": [
    {
     "data": {
      "text/plain": [
       "SVC()"
      ]
     },
     "execution_count": 19,
     "metadata": {},
     "output_type": "execute_result"
    }
   ],
   "source": [
    "# Fit models on training data (Male)\n",
    "svm_model_female.fit(X_train_female, y_train_female)"
   ]
  },
  {
   "cell_type": "code",
   "execution_count": 20,
   "metadata": {},
   "outputs": [
    {
     "data": {
      "text/plain": [
       "RandomForestClassifier()"
      ]
     },
     "execution_count": 20,
     "metadata": {},
     "output_type": "execute_result"
    }
   ],
   "source": [
    "rf_model_female.fit(X_train_female, y_train_female)"
   ]
  },
  {
   "cell_type": "code",
   "execution_count": 21,
   "metadata": {},
   "outputs": [
    {
     "data": {
      "text/plain": [
       "GradientBoostingClassifier()"
      ]
     },
     "execution_count": 21,
     "metadata": {},
     "output_type": "execute_result"
    }
   ],
   "source": [
    "gb_model_female.fit(X_train_female, y_train_female)"
   ]
  },
  {
   "cell_type": "code",
   "execution_count": 22,
   "metadata": {},
   "outputs": [],
   "source": [
    "# Predicting on the test set for Males dataset\n",
    "svm_male_pred = svm_model_male.predict(X_test_male)\n",
    "rf_male_pred = rf_model_male.predict(X_test_male)\n",
    "gb_male_pred = gb_model_male.predict(X_test_male)\n",
    "\n",
    "# Predicting on the test set for Females dataset\n",
    "svm_female_pred = svm_model_female.predict(X_test_female)\n",
    "rf_female_pred = rf_model_female.predict(X_test_female)\n",
    "gb_female_pred = gb_model_female.predict(X_test_female)"
   ]
  },
  {
   "cell_type": "code",
   "execution_count": 23,
   "metadata": {},
   "outputs": [],
   "source": [
    "# Calculating accuracy for Males dset\n",
    "svm_male_accuracy = accuracy_score(y_test_male, svm_male_pred)\n",
    "rf_male_accuracy = accuracy_score(y_test_male, rf_male_pred)\n",
    "gb_male_accuracy = accuracy_score(y_test_male, gb_male_pred)\n",
    "\n",
    "# Calculating accuracy for Females dset\n",
    "svm_female_accuracy = accuracy_score(y_test_female, svm_female_pred)\n",
    "rf_female_accuracy = accuracy_score(y_test_female, rf_female_pred)\n",
    "gb_female_accuracy = accuracy_score(y_test_female, gb_female_pred)"
   ]
  },
  {
   "cell_type": "code",
   "execution_count": 24,
   "metadata": {},
   "outputs": [],
   "source": [
    "# Calculating and formatting accuracy for Males dset\n",
    "svm_male_accuracy_percentage = round(svm_male_accuracy * 100, 2)\n",
    "rf_male_accuracy_percentage = round(rf_male_accuracy * 100, 2)\n",
    "gb_male_accuracy_percentage = round(gb_male_accuracy * 100, 2)\n",
    "\n",
    "# Calculating and formatting accuracy for Females dset\n",
    "svm_female_accuracy_percentage = round(svm_female_accuracy * 100, 2)\n",
    "rf_female_accuracy_percentage = round(rf_female_accuracy * 100, 2)\n",
    "gb_female_accuracy_percentage = round(gb_female_accuracy * 100, 2)\n",
    "\n",
    "# Creating a table for comparison for better understanding\n",
    "table = [[\"Model\", \"Males\", \"Females\"],\n",
    "         [\"SVM\", svm_male_accuracy_percentage, svm_female_accuracy_percentage],\n",
    "         [\"Random Forest\", rf_male_accuracy_percentage, rf_female_accuracy_percentage],\n",
    "         [\"Gradient Boosting\", gb_male_accuracy_percentage, gb_female_accuracy_percentage]]"
   ]
  },
  {
   "cell_type": "code",
   "execution_count": 25,
   "metadata": {},
   "outputs": [
    {
     "name": "stdout",
     "output_type": "stream",
     "text": [
      "╒═══════════════════╤═════════╤═══════════╕\n",
      "│ Model             │   Males │   Females │\n",
      "╞═══════════════════╪═════════╪═══════════╡\n",
      "│ SVM               │   84.94 │     83.58 │\n",
      "├───────────────────┼─────────┼───────────┤\n",
      "│ Random Forest     │   93.17 │     92.78 │\n",
      "├───────────────────┼─────────┼───────────┤\n",
      "│ Gradient Boosting │   94.09 │     93.42 │\n",
      "╘═══════════════════╧═════════╧═══════════╛\n"
     ]
    }
   ],
   "source": [
    "# Printing the table for showing the results\n",
    "print(tabulate(table, headers=\"firstrow\", tablefmt=\"fancy_grid\"))"
   ]
  },
  {
   "cell_type": "code",
   "execution_count": 26,
   "metadata": {},
   "outputs": [],
   "source": [
    "# Function to calculate FPR and FNR for further analysis\n",
    "def calculate_fpr_fnr(y_true, y_pred, group_label):\n",
    "    tn, fp, fn, tp = confusion_matrix(y_true, y_pred).ravel()\n",
    "    total_negatives = tn + fp\n",
    "    total_positives = fn + tp\n",
    "\n",
    "    fpr = fp / total_negatives\n",
    "    fnr = fn / total_positives\n",
    "\n",
    "    print(f\"FPR for {group_label}: {fpr}\")\n",
    "    print(f\"FNR for {group_label}: {fnr}\")\n",
    "    return fpr, fnr"
   ]
  },
  {
   "cell_type": "code",
   "execution_count": 27,
   "metadata": {},
   "outputs": [
    {
     "name": "stdout",
     "output_type": "stream",
     "text": [
      "FPR for Males: 0.2648809523809524\n",
      "FNR for Males: 0.04806408544726302\n",
      "FPR for Females: 0.27244094488188975\n",
      "FNR for Females: 0.07583547557840617\n",
      "FPR for Males: 0.09523809523809523\n",
      "FNR for Males: 0.044058744993324434\n",
      "FPR for Females: 0.08976377952755905\n",
      "FNR for Females: 0.05784061696658098\n",
      "FPR for Males: 0.07291666666666667\n",
      "FNR for Males: 0.04672897196261682\n",
      "FPR for Females: 0.06929133858267716\n",
      "FNR for Females: 0.06298200514138817\n"
     ]
    }
   ],
   "source": [
    "# Calculating FPR and FNR for SVC in both groups at once\n",
    "fpr_male_svm, fnr_male_svm = calculate_fpr_fnr(y_test_male, svm_male_pred, \"Males\")\n",
    "fpr_female_svm, fnr_female_svm = calculate_fpr_fnr(y_test_female, svm_female_pred, \"Females\")\n",
    "\n",
    "# Calculating FPR and FNR for Random Forest in both groups at once\n",
    "fpr_male_rf, fnr_male_rf = calculate_fpr_fnr(y_test_male, rf_male_pred, \"Males\")\n",
    "fpr_female_rf, fnr_female_rf = calculate_fpr_fnr(y_test_female, rf_female_pred, \"Females\")\n",
    "\n",
    "# Calculating FPR and FNR for Gradient Boosting in both groups at once\n",
    "fpr_male_gb, fnr_male_gb = calculate_fpr_fnr(y_test_male, gb_male_pred, \"Males\")\n",
    "fpr_female_gb, fnr_female_gb = calculate_fpr_fnr(y_test_female, gb_female_pred, \"Females\")\n",
    "\n",
    "# Creating a table for comparison for better understanding\n",
    "table = [\n",
    "    [\"Model\", \"Group\", \"FPR\", \"FNR\"],\n",
    "    [\"SVM\", \"Males\", round(fpr_male_svm, 2), round(fnr_male_svm, 2)],\n",
    "    [\"SVM\", \"Females\", round(fpr_female_svm, 2), round(fnr_female_svm, 2)],\n",
    "    [\"Random Forest\", \"Males\", round(fpr_male_rf, 2), round(fnr_male_rf, 2)],\n",
    "    [\"Random Forest\", \"Females\", round(fpr_female_rf, 2), round(fnr_female_rf, 2)],\n",
    "    [\"Gradient Boosting\", \"Males\", round(fpr_male_gb, 2), round(fnr_male_gb, 2)],\n",
    "    [\"Gradient Boosting\", \"Females\", round(fpr_female_gb, 2), round(fnr_female_gb, 2)],\n",
    "]"
   ]
  },
  {
   "cell_type": "code",
   "execution_count": 28,
   "metadata": {},
   "outputs": [
    {
     "name": "stdout",
     "output_type": "stream",
     "text": [
      "╒═══════════════════╤═════════╤═══════╤═══════╕\n",
      "│ Model             │ Group   │   FPR │   FNR │\n",
      "╞═══════════════════╪═════════╪═══════╪═══════╡\n",
      "│ SVM               │ Males   │  0.26 │  0.05 │\n",
      "├───────────────────┼─────────┼───────┼───────┤\n",
      "│ SVM               │ Females │  0.27 │  0.08 │\n",
      "├───────────────────┼─────────┼───────┼───────┤\n",
      "│ Random Forest     │ Males   │  0.1  │  0.04 │\n",
      "├───────────────────┼─────────┼───────┼───────┤\n",
      "│ Random Forest     │ Females │  0.09 │  0.06 │\n",
      "├───────────────────┼─────────┼───────┼───────┤\n",
      "│ Gradient Boosting │ Males   │  0.07 │  0.05 │\n",
      "├───────────────────┼─────────┼───────┼───────┤\n",
      "│ Gradient Boosting │ Females │  0.07 │  0.06 │\n",
      "╘═══════════════════╧═════════╧═══════╧═══════╛\n"
     ]
    }
   ],
   "source": [
    "# Printing the table for showing the results\n",
    "print(tabulate(table, headers=\"firstrow\", tablefmt=\"fancy_grid\"))"
   ]
  },
  {
   "cell_type": "code",
   "execution_count": 29,
   "metadata": {},
   "outputs": [],
   "source": [
    "# Calculating the Disparate Mistreatment in both groups for each algorithm at once\n",
    "disparate_mistreatment_svm = {\n",
    "    \"SVM\": abs(fpr_male_svm - fpr_female_svm) + abs(fnr_male_svm - fnr_female_svm)\n",
    "}\n",
    "\n",
    "disparate_mistreatment_rf = {\n",
    "    \"Random Forest\": abs(fpr_male_rf - fpr_female_rf) + abs(fnr_male_rf - fnr_female_rf)\n",
    "}\n",
    "\n",
    "disparate_mistreatment_gb = {\n",
    "    \"Gradient Boosting\": abs(fpr_male_gb - fpr_female_gb) + abs(fnr_male_gb - fnr_female_gb)\n",
    "}\n",
    "\n",
    "table_data = []\n",
    "table_data.append([\"Model\", \"Disparate Mistreatment\"])\n",
    "\n",
    "# Adding the values for SVC for better analysis\n",
    "table_data.append([\"SVM\", round(disparate_mistreatment_svm['SVM'], 2)])\n",
    "\n",
    "# Adding the values for Random Forest Classifier for better analysis\n",
    "table_data.append([\"Random Forest\", round(disparate_mistreatment_rf['Random Forest'], 2)])\n",
    "\n",
    "# Adding the values for Gradient Boosting Classifier for better analysis\n",
    "table_data.append([\"Gradient Boosting\", round(disparate_mistreatment_gb['Gradient Boosting'], 2)])"
   ]
  },
  {
   "cell_type": "code",
   "execution_count": 30,
   "metadata": {},
   "outputs": [
    {
     "name": "stdout",
     "output_type": "stream",
     "text": [
      "╒═══════════════════╤══════════════════════════╕\n",
      "│ Model             │   Disparate Mistreatment │\n",
      "╞═══════════════════╪══════════════════════════╡\n",
      "│ SVM               │                     0.04 │\n",
      "├───────────────────┼──────────────────────────┤\n",
      "│ Random Forest     │                     0.02 │\n",
      "├───────────────────┼──────────────────────────┤\n",
      "│ Gradient Boosting │                     0.02 │\n",
      "╘═══════════════════╧══════════════════════════╛\n"
     ]
    }
   ],
   "source": [
    "# Printing the table for showing the results\n",
    "table = tabulate(table_data, headers=\"firstrow\", tablefmt=\"fancy_grid\")\n",
    "print(table)"
   ]
  }
 ],
 "metadata": {
  "kernelspec": {
   "display_name": "base",
   "language": "python",
   "name": "python3"
  },
  "language_info": {
   "codemirror_mode": {
    "name": "ipython",
    "version": 3
   },
   "file_extension": ".py",
   "mimetype": "text/x-python",
   "name": "python",
   "nbconvert_exporter": "python",
   "pygments_lexer": "ipython3",
   "version": "3.9.13"
  }
 },
 "nbformat": 4,
 "nbformat_minor": 2
}
